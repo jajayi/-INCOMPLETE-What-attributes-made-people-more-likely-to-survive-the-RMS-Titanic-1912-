{
 "cells": [
  {
   "cell_type": "markdown",
   "metadata": {},
   "source": [
    "Note: This is a work in progress. I am changing things constantly.\n",
    "\n",
    "## 1 Intro\n",
    "\n",
    "The sinking of the RMS Titanic is one of the most infamous shipwrecks in history.  On April 15, 1912, during her maiden voyage, the Titanic sank after colliding with an iceberg, killing 1502 out of 2224 passengers and crew. This sensational tragedy shocked the international community and led to better safety regulations for ships.\n",
    "\n",
    "### 1.1 Objective/Initial Question\n",
    "\n",
    "In this report, I aim to complete the analysis of what sorts of people were likely to survive. I plan to apply the tools of machine learning to predict which passengers were more likely to survive the tragedy."
   ]
  },
  {
   "cell_type": "markdown",
   "metadata": {},
   "source": [
    "## 2 Obtain the data"
   ]
  },
  {
   "cell_type": "markdown",
   "metadata": {},
   "source": [
    "### 2.1 Import Libraries"
   ]
  },
  {
   "cell_type": "code",
   "execution_count": 1,
   "metadata": {},
   "outputs": [],
   "source": [
    "# Handle table-like data and matrices\n",
    "import numpy as np\n",
    "import pandas as pd\n",
    "\n",
    "# Visualisation\n",
    "import matplotlib as mpl\n",
    "import matplotlib.pyplot as plt\n",
    "import matplotlib.pylab as pylab\n",
    "import seaborn as sns\n",
    "\n",
    "# Configure visualisations\n",
    "%matplotlib inline\n",
    "mpl.style.use( 'ggplot' )\n",
    "sns.set_style( 'white' )\n",
    "pylab.rcParams[ 'figure.figsize' ] = 8 , 6"
   ]
  },
  {
   "cell_type": "markdown",
   "metadata": {},
   "source": [
    "### 2.2 Setup Helper Functions"
   ]
  },
  {
   "cell_type": "code",
   "execution_count": 2,
   "metadata": {},
   "outputs": [],
   "source": [
    "def plot_hist(var):\n",
    "    plt.hist(var)\n",
    "    plt.xlabel(str(var.name))\n",
    "    plt.ylabel('Frequency')\n",
    "    plt.title('The frequency distribution of ' + str(var.name).lower())\n",
    "\n",
    "def plot_histograms( df , variables , n_rows , n_cols ):\n",
    "    fig = plt.figure( figsize = ( 16 , 12 ) )\n",
    "    for i, var_name in enumerate( variables ):\n",
    "        ax=fig.add_subplot( n_rows , n_cols , i+1 )\n",
    "        df[ var_name ].hist( bins=10 , ax=ax )\n",
    "        ax.set_title( 'Skew: ' + str( round( float( df[ var_name ].skew() ) , ) ) ) \n",
    "        # + ' ' + var_name ) #var_name+\" Distribution\")\n",
    "        ax.set_xticklabels( [] , visible=False )\n",
    "        ax.set_yticklabels( [] , visible=False )\n",
    "    fig.tight_layout()  # Improves appearance a bit.\n",
    "    plt.show()\n",
    "\n",
    "def plot_distribution( df , var , target , **kwargs ):\n",
    "    row = kwargs.get( 'row' , None )\n",
    "    col = kwargs.get( 'col' , None )\n",
    "    facet = sns.FacetGrid( df , hue=target , aspect=4 , row = row , col = col )\n",
    "    facet.map( sns.kdeplot , var , shade= True )\n",
    "    #facet.set( xlim=( 0 , df[ var ].max() ) )\n",
    "    facet.set( xlim=( 0 , 150 ) )\n",
    "    facet.add_legend()\n",
    "    facet.set_axis_labels(var, 'Probability Density')\n",
    "\n",
    "def plot_categories( df , cat , target , **kwargs ):\n",
    "    row = kwargs.get( 'row' , None )\n",
    "    col = kwargs.get( 'col' , None )\n",
    "    facet = sns.FacetGrid( df , row = row , col = col )\n",
    "    facet.map( sns.barplot , cat , target )\n",
    "    facet.add_legend()\n",
    "\n",
    "def plot_correlation_map( df ):\n",
    "    corr = df.corr()\n",
    "    _ , ax = plt.subplots( figsize =( 12 , 10 ) )\n",
    "    cmap = sns.diverging_palette( 220 , 10 , as_cmap = True )\n",
    "    _ = sns.heatmap(\n",
    "        corr, \n",
    "        cmap = cmap,\n",
    "        square=True, \n",
    "        cbar_kws={ 'shrink' : .9 }, \n",
    "        ax=ax, \n",
    "        annot = True, \n",
    "        annot_kws = { 'fontsize' : 12 }\n",
    "        \n",
    "    \n",
    "    )\n",
    "\n",
    "def describe_more( df ):\n",
    "    var = [] ; l = [] ; t = []\n",
    "    for x in df:\n",
    "        var.append( x )\n",
    "        l.append( len( pd.value_counts( df[ x ] ) ) )\n",
    "        t.append( df[ x ].dtypes )\n",
    "    levels = pd.DataFrame( { 'Variable' : var , 'Levels' : l , 'Datatype' : t } )\n",
    "    levels.sort_values( by = 'Levels' , inplace = True )\n",
    "    return levels\n",
    "\n",
    "def plot_variable_importance( X , y ):\n",
    "    tree = DecisionTreeClassifier( random_state = 99 )\n",
    "    tree.fit( X , y )\n",
    "    plot_model_var_imp( tree , X , y )\n",
    "    \n",
    "def plot_model_var_imp( model , X , y ):\n",
    "    imp = pd.DataFrame( \n",
    "        model.feature_importances_  , \n",
    "        columns = [ 'Importance' ] , \n",
    "        index = X.columns \n",
    "    )\n",
    "    imp = imp.sort_values( [ 'Importance' ] , ascending = True )\n",
    "    imp[ : 10 ].plot( kind = 'barh' )\n",
    "    print (model.score( X , y ))"
   ]
  },
  {
   "cell_type": "markdown",
   "metadata": {},
   "source": [
    "### 2.3 Load data"
   ]
  },
  {
   "cell_type": "markdown",
   "metadata": {},
   "source": [
    "Note: I retrospectively set the index column after reviewing the dataframe in the next section. I briefly checked that all the PassengerId values were unique to ensure it made sense to have it as an index column."
   ]
  },
  {
   "cell_type": "code",
   "execution_count": 3,
   "metadata": {},
   "outputs": [],
   "source": [
    "df = pd.read_csv('titanic_data.csv', index_col='PassengerId')\n",
    "train = pd.read_csv('train.csv', index_col='PassengerId')\n",
    "test = pd.read_csv('test.csv', index_col='PassengerId')\n",
    "\n",
    "#full = train.append(test, ignore_index= True, sort=False)\n",
    "#titanic = full[:891]\n",
    "\n",
    "#print(\"Dataset Shapes - Full: {}, Titanic: {} \".format(full.shape, titanic.shape))"
   ]
  },
  {
   "cell_type": "markdown",
   "metadata": {},
   "source": [
    "Now, let's look at the data set we are working with. But before I do, I'll past the variable definitions provided by Kaggle that came with the  data set.\n",
    "\n",
    "#### Variable definitions\n",
    "\n",
    "- Survival:\tSurvival\t(0 = No, 1 = Yes)\n",
    "- Pclass: Ticket class\t(1 = 1st, 2 = 2nd, 3 = 3rd)\n",
    "- Sex: Sex\t\n",
    "- Age: Age in years\t\n",
    "- Sibsp: # of siblings / spouses aboard the Titanic\t\n",
    "- Parch: # of parents / children aboard the Titanic\t\n",
    "- Ticket: Ticket number\t\n",
    "- Fare:\tPassenger fare\t\n",
    "- Cabin: Cabin number\t\n",
    "- Embarked:\tPort of Embarkation\t(C = Cherbourg, Q = Queenstown, S = Southampton)\n",
    "\n",
    "Now let's look at the data!"
   ]
  },
  {
   "cell_type": "code",
   "execution_count": 4,
   "metadata": {
    "scrolled": false
   },
   "outputs": [
    {
     "data": {
      "text/html": [
       "<div>\n",
       "<style scoped>\n",
       "    .dataframe tbody tr th:only-of-type {\n",
       "        vertical-align: middle;\n",
       "    }\n",
       "\n",
       "    .dataframe tbody tr th {\n",
       "        vertical-align: top;\n",
       "    }\n",
       "\n",
       "    .dataframe thead th {\n",
       "        text-align: right;\n",
       "    }\n",
       "</style>\n",
       "<table border=\"1\" class=\"dataframe\">\n",
       "  <thead>\n",
       "    <tr style=\"text-align: right;\">\n",
       "      <th></th>\n",
       "      <th>Survived</th>\n",
       "      <th>Pclass</th>\n",
       "      <th>Name</th>\n",
       "      <th>Sex</th>\n",
       "      <th>Age</th>\n",
       "      <th>SibSp</th>\n",
       "      <th>Parch</th>\n",
       "      <th>Ticket</th>\n",
       "      <th>Fare</th>\n",
       "      <th>Cabin</th>\n",
       "      <th>Embarked</th>\n",
       "    </tr>\n",
       "    <tr>\n",
       "      <th>PassengerId</th>\n",
       "      <th></th>\n",
       "      <th></th>\n",
       "      <th></th>\n",
       "      <th></th>\n",
       "      <th></th>\n",
       "      <th></th>\n",
       "      <th></th>\n",
       "      <th></th>\n",
       "      <th></th>\n",
       "      <th></th>\n",
       "      <th></th>\n",
       "    </tr>\n",
       "  </thead>\n",
       "  <tbody>\n",
       "    <tr>\n",
       "      <th>1</th>\n",
       "      <td>0</td>\n",
       "      <td>3</td>\n",
       "      <td>Braund, Mr. Owen Harris</td>\n",
       "      <td>male</td>\n",
       "      <td>22.0</td>\n",
       "      <td>1</td>\n",
       "      <td>0</td>\n",
       "      <td>A/5 21171</td>\n",
       "      <td>7.2500</td>\n",
       "      <td>NaN</td>\n",
       "      <td>S</td>\n",
       "    </tr>\n",
       "    <tr>\n",
       "      <th>2</th>\n",
       "      <td>1</td>\n",
       "      <td>1</td>\n",
       "      <td>Cumings, Mrs. John Bradley (Florence Briggs Th...</td>\n",
       "      <td>female</td>\n",
       "      <td>38.0</td>\n",
       "      <td>1</td>\n",
       "      <td>0</td>\n",
       "      <td>PC 17599</td>\n",
       "      <td>71.2833</td>\n",
       "      <td>C85</td>\n",
       "      <td>C</td>\n",
       "    </tr>\n",
       "    <tr>\n",
       "      <th>3</th>\n",
       "      <td>1</td>\n",
       "      <td>3</td>\n",
       "      <td>Heikkinen, Miss. Laina</td>\n",
       "      <td>female</td>\n",
       "      <td>26.0</td>\n",
       "      <td>0</td>\n",
       "      <td>0</td>\n",
       "      <td>STON/O2. 3101282</td>\n",
       "      <td>7.9250</td>\n",
       "      <td>NaN</td>\n",
       "      <td>S</td>\n",
       "    </tr>\n",
       "    <tr>\n",
       "      <th>4</th>\n",
       "      <td>1</td>\n",
       "      <td>1</td>\n",
       "      <td>Futrelle, Mrs. Jacques Heath (Lily May Peel)</td>\n",
       "      <td>female</td>\n",
       "      <td>35.0</td>\n",
       "      <td>1</td>\n",
       "      <td>0</td>\n",
       "      <td>113803</td>\n",
       "      <td>53.1000</td>\n",
       "      <td>C123</td>\n",
       "      <td>S</td>\n",
       "    </tr>\n",
       "    <tr>\n",
       "      <th>5</th>\n",
       "      <td>0</td>\n",
       "      <td>3</td>\n",
       "      <td>Allen, Mr. William Henry</td>\n",
       "      <td>male</td>\n",
       "      <td>35.0</td>\n",
       "      <td>0</td>\n",
       "      <td>0</td>\n",
       "      <td>373450</td>\n",
       "      <td>8.0500</td>\n",
       "      <td>NaN</td>\n",
       "      <td>S</td>\n",
       "    </tr>\n",
       "  </tbody>\n",
       "</table>\n",
       "</div>"
      ],
      "text/plain": [
       "             Survived  Pclass  \\\n",
       "PassengerId                     \n",
       "1                   0       3   \n",
       "2                   1       1   \n",
       "3                   1       3   \n",
       "4                   1       1   \n",
       "5                   0       3   \n",
       "\n",
       "                                                          Name     Sex   Age  \\\n",
       "PassengerId                                                                    \n",
       "1                                      Braund, Mr. Owen Harris    male  22.0   \n",
       "2            Cumings, Mrs. John Bradley (Florence Briggs Th...  female  38.0   \n",
       "3                                       Heikkinen, Miss. Laina  female  26.0   \n",
       "4                 Futrelle, Mrs. Jacques Heath (Lily May Peel)  female  35.0   \n",
       "5                                     Allen, Mr. William Henry    male  35.0   \n",
       "\n",
       "             SibSp  Parch            Ticket     Fare Cabin Embarked  \n",
       "PassengerId                                                          \n",
       "1                1      0         A/5 21171   7.2500   NaN        S  \n",
       "2                1      0          PC 17599  71.2833   C85        C  \n",
       "3                0      0  STON/O2. 3101282   7.9250   NaN        S  \n",
       "4                1      0            113803  53.1000  C123        S  \n",
       "5                0      0            373450   8.0500   NaN        S  "
      ]
     },
     "execution_count": 4,
     "metadata": {},
     "output_type": "execute_result"
    }
   ],
   "source": [
    "df.head()"
   ]
  },
  {
   "cell_type": "markdown",
   "metadata": {},
   "source": [
    "Having seen the data, i'm documenting questions I have at this stage which may lead to interesting results. Of course as I learn more about the data, this is likely to change. However below is what I have listed as a starting point.\n",
    "\n",
    "#### Potentially Interesting Questions\n",
    "\n",
    "- Are women and children more likely to have survived? (Why: The movies portray women and children to be given priority) \n",
    "- Are those who are over sixty less likely to have survived? (Why: Declining health)\n",
    "- Are those who paid less for their ticket/or bought a lower class ticket more likely to have survived? (Why: \"Harder life assumption\")\n",
    "- How many complete families survived (i.e. where people had siblings/spouses/parches/children and I am able to locate their families through last name.\n",
    "- Where families didn't survive, what kind of member didn't?\n",
    "- Are people with significantly discounted tickets more likely to survive?\n",
    "- Were there any discounts given to elderly/young people?\n",
    "- Did men or women pay more on average for their ticket?\n",
    "- Were certain ages of men/women more likely to travel alone?\n",
    "- Were lone travellers more likely to survive?\n",
    "\n",
    "What's the shape of the data?"
   ]
  },
  {
   "cell_type": "code",
   "execution_count": 5,
   "metadata": {
    "scrolled": true
   },
   "outputs": [
    {
     "data": {
      "text/plain": [
       "(891, 11)"
      ]
     },
     "execution_count": 5,
     "metadata": {},
     "output_type": "execute_result"
    }
   ],
   "source": [
    "df.shape"
   ]
  },
  {
   "cell_type": "markdown",
   "metadata": {},
   "source": [
    "We have 891 rows and 12 columns. \n",
    "\n",
    "What data types are we dealing with?"
   ]
  },
  {
   "cell_type": "code",
   "execution_count": 6,
   "metadata": {
    "scrolled": true
   },
   "outputs": [
    {
     "name": "stdout",
     "output_type": "stream",
     "text": [
      "<class 'pandas.core.frame.DataFrame'>\n",
      "Int64Index: 891 entries, 1 to 891\n",
      "Data columns (total 11 columns):\n",
      "Survived    891 non-null int64\n",
      "Pclass      891 non-null int64\n",
      "Name        891 non-null object\n",
      "Sex         891 non-null object\n",
      "Age         714 non-null float64\n",
      "SibSp       891 non-null int64\n",
      "Parch       891 non-null int64\n",
      "Ticket      891 non-null object\n",
      "Fare        891 non-null float64\n",
      "Cabin       204 non-null object\n",
      "Embarked    889 non-null object\n",
      "dtypes: float64(2), int64(4), object(5)\n",
      "memory usage: 83.5+ KB\n"
     ]
    }
   ],
   "source": [
    "df.info()"
   ]
  },
  {
   "cell_type": "markdown",
   "metadata": {},
   "source": [
    "Reviwing the dataframe table, table info and table summary above, I am going to start listing a few potential issues which may need cleansing.\n",
    "- Incomplete data for the \"Age\", \"Cabin\" and \"Embarked\" columns. \n",
    "- I can also see that we have several columns which have been loaded as an object. I may need to convert these to a string later.\n",
    "- Some of the name fields have two names with one bracketed (potentially someone buying a ticket on the behalf of someone else).\n",
    "\n",
    "#### Fixing problems in the data\n",
    "\n",
    "I know that the data has missing values for Age. Therefore I am going to take the mean age and set the remaining values to this."
   ]
  },
  {
   "cell_type": "code",
   "execution_count": 7,
   "metadata": {
    "scrolled": true
   },
   "outputs": [
    {
     "name": "stdout",
     "output_type": "stream",
     "text": [
      "29.69911764705882\n"
     ]
    }
   ],
   "source": [
    "df['Age'] = df['Age'].fillna(df['Age'].mean())\n",
    "\n",
    "print(df['Age'].mean())"
   ]
  },
  {
   "cell_type": "markdown",
   "metadata": {},
   "source": [
    "All the blank age values have been populated with 29.699118.\n",
    "\n",
    "We are missing two values for embarked which I am happy to ignore for now. As for cabin, there are only 204/891 values provided. At this point, I don't know what analysis I plan to do with the cabin field so I will leave it as-is for now."
   ]
  },
  {
   "cell_type": "markdown",
   "metadata": {},
   "source": [
    "## 3 Exploring the data"
   ]
  },
  {
   "cell_type": "markdown",
   "metadata": {},
   "source": [
    "### 3.1 Statistical summaries and visualisations\n",
    "\n",
    "I'll use the describe function of pandas to give me a few summary statistics for our quanitative variables. Hopefully this should give me an idea of what factors could play an important role in whether a person would have survived or not. Remember 0 is a non-survivor and 1 is a survivor."
   ]
  },
  {
   "cell_type": "code",
   "execution_count": 48,
   "metadata": {
    "scrolled": false
   },
   "outputs": [
    {
     "data": {
      "text/html": [
       "<div>\n",
       "<style scoped>\n",
       "    .dataframe tbody tr th:only-of-type {\n",
       "        vertical-align: middle;\n",
       "    }\n",
       "\n",
       "    .dataframe tbody tr th {\n",
       "        vertical-align: top;\n",
       "    }\n",
       "\n",
       "    .dataframe thead th {\n",
       "        text-align: right;\n",
       "    }\n",
       "</style>\n",
       "<table border=\"1\" class=\"dataframe\">\n",
       "  <thead>\n",
       "    <tr style=\"text-align: right;\">\n",
       "      <th></th>\n",
       "      <th>Survived</th>\n",
       "      <th>0</th>\n",
       "      <th>1</th>\n",
       "    </tr>\n",
       "  </thead>\n",
       "  <tbody>\n",
       "    <tr>\n",
       "      <th rowspan=\"8\" valign=\"top\">Age</th>\n",
       "      <th>count</th>\n",
       "      <td>549.000000</td>\n",
       "      <td>342.000000</td>\n",
       "    </tr>\n",
       "    <tr>\n",
       "      <th>mean</th>\n",
       "      <td>30.415100</td>\n",
       "      <td>28.549778</td>\n",
       "    </tr>\n",
       "    <tr>\n",
       "      <th>std</th>\n",
       "      <td>12.457370</td>\n",
       "      <td>13.772498</td>\n",
       "    </tr>\n",
       "    <tr>\n",
       "      <th>min</th>\n",
       "      <td>1.000000</td>\n",
       "      <td>0.420000</td>\n",
       "    </tr>\n",
       "    <tr>\n",
       "      <th>25%</th>\n",
       "      <td>23.000000</td>\n",
       "      <td>21.000000</td>\n",
       "    </tr>\n",
       "    <tr>\n",
       "      <th>50%</th>\n",
       "      <td>29.699118</td>\n",
       "      <td>29.699118</td>\n",
       "    </tr>\n",
       "    <tr>\n",
       "      <th>75%</th>\n",
       "      <td>35.000000</td>\n",
       "      <td>35.000000</td>\n",
       "    </tr>\n",
       "    <tr>\n",
       "      <th>max</th>\n",
       "      <td>74.000000</td>\n",
       "      <td>80.000000</td>\n",
       "    </tr>\n",
       "    <tr>\n",
       "      <th rowspan=\"8\" valign=\"top\">Fare</th>\n",
       "      <th>count</th>\n",
       "      <td>549.000000</td>\n",
       "      <td>342.000000</td>\n",
       "    </tr>\n",
       "    <tr>\n",
       "      <th>mean</th>\n",
       "      <td>22.117887</td>\n",
       "      <td>48.395408</td>\n",
       "    </tr>\n",
       "    <tr>\n",
       "      <th>std</th>\n",
       "      <td>31.388207</td>\n",
       "      <td>66.596998</td>\n",
       "    </tr>\n",
       "    <tr>\n",
       "      <th>min</th>\n",
       "      <td>0.000000</td>\n",
       "      <td>0.000000</td>\n",
       "    </tr>\n",
       "    <tr>\n",
       "      <th>25%</th>\n",
       "      <td>7.854200</td>\n",
       "      <td>12.475000</td>\n",
       "    </tr>\n",
       "    <tr>\n",
       "      <th>50%</th>\n",
       "      <td>10.500000</td>\n",
       "      <td>26.000000</td>\n",
       "    </tr>\n",
       "    <tr>\n",
       "      <th>75%</th>\n",
       "      <td>26.000000</td>\n",
       "      <td>57.000000</td>\n",
       "    </tr>\n",
       "    <tr>\n",
       "      <th>max</th>\n",
       "      <td>263.000000</td>\n",
       "      <td>512.329200</td>\n",
       "    </tr>\n",
       "    <tr>\n",
       "      <th rowspan=\"8\" valign=\"top\">Parch</th>\n",
       "      <th>count</th>\n",
       "      <td>549.000000</td>\n",
       "      <td>342.000000</td>\n",
       "    </tr>\n",
       "    <tr>\n",
       "      <th>mean</th>\n",
       "      <td>0.329690</td>\n",
       "      <td>0.464912</td>\n",
       "    </tr>\n",
       "    <tr>\n",
       "      <th>std</th>\n",
       "      <td>0.823166</td>\n",
       "      <td>0.771712</td>\n",
       "    </tr>\n",
       "    <tr>\n",
       "      <th>min</th>\n",
       "      <td>0.000000</td>\n",
       "      <td>0.000000</td>\n",
       "    </tr>\n",
       "    <tr>\n",
       "      <th>25%</th>\n",
       "      <td>0.000000</td>\n",
       "      <td>0.000000</td>\n",
       "    </tr>\n",
       "    <tr>\n",
       "      <th>50%</th>\n",
       "      <td>0.000000</td>\n",
       "      <td>0.000000</td>\n",
       "    </tr>\n",
       "    <tr>\n",
       "      <th>75%</th>\n",
       "      <td>0.000000</td>\n",
       "      <td>1.000000</td>\n",
       "    </tr>\n",
       "    <tr>\n",
       "      <th>max</th>\n",
       "      <td>6.000000</td>\n",
       "      <td>5.000000</td>\n",
       "    </tr>\n",
       "    <tr>\n",
       "      <th rowspan=\"8\" valign=\"top\">Pclass</th>\n",
       "      <th>count</th>\n",
       "      <td>549.000000</td>\n",
       "      <td>342.000000</td>\n",
       "    </tr>\n",
       "    <tr>\n",
       "      <th>mean</th>\n",
       "      <td>2.531876</td>\n",
       "      <td>1.950292</td>\n",
       "    </tr>\n",
       "    <tr>\n",
       "      <th>std</th>\n",
       "      <td>0.735805</td>\n",
       "      <td>0.863321</td>\n",
       "    </tr>\n",
       "    <tr>\n",
       "      <th>min</th>\n",
       "      <td>1.000000</td>\n",
       "      <td>1.000000</td>\n",
       "    </tr>\n",
       "    <tr>\n",
       "      <th>25%</th>\n",
       "      <td>2.000000</td>\n",
       "      <td>1.000000</td>\n",
       "    </tr>\n",
       "    <tr>\n",
       "      <th>50%</th>\n",
       "      <td>3.000000</td>\n",
       "      <td>2.000000</td>\n",
       "    </tr>\n",
       "    <tr>\n",
       "      <th>75%</th>\n",
       "      <td>3.000000</td>\n",
       "      <td>3.000000</td>\n",
       "    </tr>\n",
       "    <tr>\n",
       "      <th>max</th>\n",
       "      <td>3.000000</td>\n",
       "      <td>3.000000</td>\n",
       "    </tr>\n",
       "    <tr>\n",
       "      <th rowspan=\"8\" valign=\"top\">SibSp</th>\n",
       "      <th>count</th>\n",
       "      <td>549.000000</td>\n",
       "      <td>342.000000</td>\n",
       "    </tr>\n",
       "    <tr>\n",
       "      <th>mean</th>\n",
       "      <td>0.553734</td>\n",
       "      <td>0.473684</td>\n",
       "    </tr>\n",
       "    <tr>\n",
       "      <th>std</th>\n",
       "      <td>1.288399</td>\n",
       "      <td>0.708688</td>\n",
       "    </tr>\n",
       "    <tr>\n",
       "      <th>min</th>\n",
       "      <td>0.000000</td>\n",
       "      <td>0.000000</td>\n",
       "    </tr>\n",
       "    <tr>\n",
       "      <th>25%</th>\n",
       "      <td>0.000000</td>\n",
       "      <td>0.000000</td>\n",
       "    </tr>\n",
       "    <tr>\n",
       "      <th>50%</th>\n",
       "      <td>0.000000</td>\n",
       "      <td>0.000000</td>\n",
       "    </tr>\n",
       "    <tr>\n",
       "      <th>75%</th>\n",
       "      <td>1.000000</td>\n",
       "      <td>1.000000</td>\n",
       "    </tr>\n",
       "    <tr>\n",
       "      <th>max</th>\n",
       "      <td>8.000000</td>\n",
       "      <td>4.000000</td>\n",
       "    </tr>\n",
       "  </tbody>\n",
       "</table>\n",
       "</div>"
      ],
      "text/plain": [
       "Survived               0           1\n",
       "Age    count  549.000000  342.000000\n",
       "       mean    30.415100   28.549778\n",
       "       std     12.457370   13.772498\n",
       "       min      1.000000    0.420000\n",
       "       25%     23.000000   21.000000\n",
       "       50%     29.699118   29.699118\n",
       "       75%     35.000000   35.000000\n",
       "       max     74.000000   80.000000\n",
       "Fare   count  549.000000  342.000000\n",
       "       mean    22.117887   48.395408\n",
       "       std     31.388207   66.596998\n",
       "       min      0.000000    0.000000\n",
       "       25%      7.854200   12.475000\n",
       "       50%     10.500000   26.000000\n",
       "       75%     26.000000   57.000000\n",
       "       max    263.000000  512.329200\n",
       "Parch  count  549.000000  342.000000\n",
       "       mean     0.329690    0.464912\n",
       "       std      0.823166    0.771712\n",
       "       min      0.000000    0.000000\n",
       "       25%      0.000000    0.000000\n",
       "       50%      0.000000    0.000000\n",
       "       75%      0.000000    1.000000\n",
       "       max      6.000000    5.000000\n",
       "Pclass count  549.000000  342.000000\n",
       "       mean     2.531876    1.950292\n",
       "       std      0.735805    0.863321\n",
       "       min      1.000000    1.000000\n",
       "       25%      2.000000    1.000000\n",
       "       50%      3.000000    2.000000\n",
       "       75%      3.000000    3.000000\n",
       "       max      3.000000    3.000000\n",
       "SibSp  count  549.000000  342.000000\n",
       "       mean     0.553734    0.473684\n",
       "       std      1.288399    0.708688\n",
       "       min      0.000000    0.000000\n",
       "       25%      0.000000    0.000000\n",
       "       50%      0.000000    0.000000\n",
       "       75%      1.000000    1.000000\n",
       "       max      8.000000    4.000000"
      ]
     },
     "execution_count": 48,
     "metadata": {},
     "output_type": "execute_result"
    }
   ],
   "source": [
    "df.groupby('Survived').describe().T"
   ]
  },
  {
   "cell_type": "markdown",
   "metadata": {},
   "source": [
    "It's interesting to see that for the Fare variable, both the mean and the median (50%) are significantly higher for survivors. The inverse relationship can be observed for Pclass. Thinking about this logically, Pclass is the ticket class of which there are three options, 1st, 2nd and 3rd class (represented as 1, 2 and 3 respectively). Given this, you would expect that as the Pclass increases (from 1 to 3), that the associated Fare would decrease - i.e. an inverser relationship. "
   ]
  },
  {
   "cell_type": "markdown",
   "metadata": {},
   "source": [
    "### 3.2 A heat map of correlation \n",
    "\n",
    "The below is a heat map of the strength of correlation (Pearson's r) of the variables we have available. This should hopefully give me more of an indication of which variables are strongly correlated - paying particular attention to survival."
   ]
  },
  {
   "cell_type": "code",
   "execution_count": 9,
   "metadata": {
    "scrolled": false
   },
   "outputs": [
    {
     "data": {
      "image/png": "[encoded data removed]",
      "text/plain": [
       "<Figure size 864x720 with 2 Axes>"
      ]
     },
     "metadata": {
      "needs_background": "light"
     },
     "output_type": "display_data"
    }
   ],
   "source": [
    "plot_correlation_map(df)"
   ]
  },
  {
   "cell_type": "markdown",
   "metadata": {},
   "source": [
    "The correlation heatmap shows us that there are some relationships that may lead to interesting insights by further investigation.\n",
    "\n",
    "**Relationships that appear to impact survival**\n",
    "- PClass and Survived (-0.34) \n",
    "- Fare and Survived (0.26)\n",
    "\n",
    "Pclass is negatively correlated with survival - i.e. those with a higher class ticket (represented by a lower number) were more likely to have survive. Previously we theorised that Pclass and Fare would be negatively correlated which we can see to be true (correlation of -0.55). Therefore it is not suprising to see that the inverse relationship for Pclass can be seen with Fare. Those who payed more for their ticket is positively correlated with the amount of survivors. \n",
    "\n",
    "_Could preferential treatment possibly have been given to those with a higher class ticket? Could bribery have played a hand? Or could the upper class be better at getting what they want?_\n",
    "\n",
    "**Other correlations of note**\n",
    "- Parch and SibSp (0.41)\n",
    "- Age and SibSp (-0.31)\n",
    "- Age and PClass (-0.37)\n",
    "- Parch and Age (-0.19)\n",
    "- Parch and SibSp (0.41)\n",
    "\n"
   ]
  },
  {
   "cell_type": "markdown",
   "metadata": {},
   "source": [
    "### 3.3 Pairwise plots\n",
    "\n",
    "The pair plot below shows pairwise relationships in the data set. This gives a quick idea of what variables drive separation and is a useful tool for taking further for machine learning algorithms.\n",
    "\n",
    "- Where plotting pairwise variables that are non-identical, produces a scatter plot \n",
    "- Where plotting pairwise variables that are identical - a kernal density estimation plot is produced (similar to a histogram)\n",
    "\n",
    "Note some points appear a strong red or strong blue despite setting the alpha (transparency) of all points to 0.3. This phenomena can be explained by several data points having the same values (common with discrete variables). This makes sense - one person with four siblings aboard will result in four other people with four siblings aboard."
   ]
  },
  {
   "cell_type": "code",
   "execution_count": 10,
   "metadata": {
    "scrolled": false
   },
   "outputs": [
    {
     "data": {
      "image/png": "[encoded data removed]",
      "text/plain": [
       "<Figure size 924.75x864 with 20 Axes>"
      ]
     },
     "metadata": {
      "needs_background": "light"
     },
     "output_type": "display_data"
    }
   ],
   "source": [
    "#This produces a number of plots with variables paired up. This should hopefully give me an indication of how easy\n",
    "# it will be to decide whether a person would have survived or not based on the data we have available to us.\n",
    "pair_plot = sns.pairplot(df,\n",
    "            hue= 'Survived', # The target, the variable we are trying to see separation for.\n",
    "            vars= ['Age', 'SibSp','Parch', 'Fare'], # The variables we are working with\n",
    "            height=3, #size of each plot\n",
    "            diag_kind='kde', #Kind of plot for the diagonal subplots\n",
    "            plot_kws=dict(alpha=0.3))\n",
    "\n",
    "#The below code hides the top right triangle of plots (which is a mirror of the bottom left)\n",
    "for i, j in zip(*np.triu_indices_from(pair_plot.axes, 1)):\n",
    "    pair_plot.axes[i, j].set_visible(False)"
   ]
  },
  {
   "cell_type": "markdown",
   "metadata": {},
   "source": [
    "It doesn't appear like we can conclusively say that one variable acts as a clear differentiator as to whether a person would have survived or not. However, there appears to be enough separation to achieve some sort of conclusion by combining variables (features in a machine learning algorithm). \n",
    "\n",
    "**Those with a low Parch (# of parents / children aboard) and/or a low SibSp (# of siblings / spouses) appear to have a higher chance of survival than those with a high Parch.** \n",
    "\n",
    "\n",
    "Density plots (**X-Y**)\n",
    "- **Age-Age, SibSp-SibSp** and **Fare-Fare** look inconclusive, the plots appear to show a similar shape for both survival outcomes).\n",
    "- **Parch-Parch** shows quite clear separation between survivors and non-survivors with the former being linked to a zero parch.\n",
    "\n",
    "Scatter Plots (**X-Y**)\n",
    "- **Age-SibSp** appears to show a particularly strong concentration of non-survivors in the top left (corresponding to young people with many siblings.\n",
    "- **Age-Parch**, **SibSp-Parch** show that a low Parch increases chance of survival.\n",
    "- **SibSp-Parch** appears that those with a low amount of siblings and parents/children aboard had a higher chance of survival (the bottom left of the graph is very blue). \n",
    "- **Age-Fare** appears inconclusive.\n",
    "\n",
    "\n",
    "**Potential justifcation**\n",
    "\n",
    "These trends don't sound suprising. Potential justification could be that parents/children would spend more time collecting their families. Another potentital justification (imagine queuing for a theme park ride) could be that families were to big to fit on lifeboats together, and that smaller travellers were called forward in the queue. If this were true, we would expect a similar relationship for the SibSp variable."
   ]
  },
  {
   "cell_type": "markdown",
   "metadata": {},
   "source": [
    "### 3.4 Looking further into areas of interest\n",
    "\n",
    "Going forward there are a few main areas I want to further investigate that I feel could lead to an interesting story. In this section we will delve deeper into some of the interesting relationships identified with the high level plots and statistical summaries.\n",
    "\n",
    "- The relationships between age/sex and survival\n",
    "- The relationships between class/ticket price and survival\n",
    "- The relationships between number of parents/children/spouses/siblings aboard and survival"
   ]
  },
  {
   "cell_type": "markdown",
   "metadata": {},
   "source": [
    "#### The relationship between age/sex and survival\n",
    "\n",
    "Here I am going to form three distinct groups which I will use to see if there is a story worth telling here. I'll group the data into children (Age < 18) and men and women. I also may form a fourth group of people over age sixty."
   ]
  },
  {
   "cell_type": "code",
   "execution_count": 56,
   "metadata": {
    "scrolled": false
   },
   "outputs": [
    {
     "data": {
      "text/html": [
       "<div>\n",
       "<style scoped>\n",
       "    .dataframe tbody tr th:only-of-type {\n",
       "        vertical-align: middle;\n",
       "    }\n",
       "\n",
       "    .dataframe tbody tr th {\n",
       "        vertical-align: top;\n",
       "    }\n",
       "\n",
       "    .dataframe thead th {\n",
       "        text-align: right;\n",
       "    }\n",
       "</style>\n",
       "<table border=\"1\" class=\"dataframe\">\n",
       "  <thead>\n",
       "    <tr style=\"text-align: right;\">\n",
       "      <th></th>\n",
       "      <th>Survived</th>\n",
       "      <th>Pclass</th>\n",
       "      <th>Age</th>\n",
       "      <th>SibSp</th>\n",
       "      <th>Parch</th>\n",
       "      <th>Fare</th>\n",
       "    </tr>\n",
       "    <tr>\n",
       "      <th>Age/Sex Grouping</th>\n",
       "      <th></th>\n",
       "      <th></th>\n",
       "      <th></th>\n",
       "      <th></th>\n",
       "      <th></th>\n",
       "      <th></th>\n",
       "    </tr>\n",
       "  </thead>\n",
       "  <tbody>\n",
       "    <tr>\n",
       "      <th>Adult Man</th>\n",
       "      <td>0.168000</td>\n",
       "      <td>2.388000</td>\n",
       "      <td>31.647381</td>\n",
       "      <td>0.294000</td>\n",
       "      <td>0.136000</td>\n",
       "      <td>24.519523</td>\n",
       "    </tr>\n",
       "    <tr>\n",
       "      <th>Adult Woman</th>\n",
       "      <td>0.750000</td>\n",
       "      <td>2.093750</td>\n",
       "      <td>31.890833</td>\n",
       "      <td>0.589844</td>\n",
       "      <td>0.574219</td>\n",
       "      <td>46.859653</td>\n",
       "    </tr>\n",
       "    <tr>\n",
       "      <th>Child</th>\n",
       "      <td>0.539823</td>\n",
       "      <td>2.584071</td>\n",
       "      <td>9.041327</td>\n",
       "      <td>1.460177</td>\n",
       "      <td>1.053097</td>\n",
       "      <td>31.220798</td>\n",
       "    </tr>\n",
       "    <tr>\n",
       "      <th>Senior</th>\n",
       "      <td>0.227273</td>\n",
       "      <td>1.590909</td>\n",
       "      <td>66.022727</td>\n",
       "      <td>0.136364</td>\n",
       "      <td>0.272727</td>\n",
       "      <td>41.371214</td>\n",
       "    </tr>\n",
       "  </tbody>\n",
       "</table>\n",
       "</div>"
      ],
      "text/plain": [
       "                  Survived    Pclass        Age     SibSp     Parch       Fare\n",
       "Age/Sex Grouping                                                              \n",
       "Adult Man         0.168000  2.388000  31.647381  0.294000  0.136000  24.519523\n",
       "Adult Woman       0.750000  2.093750  31.890833  0.589844  0.574219  46.859653\n",
       "Child             0.539823  2.584071   9.041327  1.460177  1.053097  31.220798\n",
       "Senior            0.227273  1.590909  66.022727  0.136364  0.272727  41.371214"
      ]
     },
     "execution_count": 56,
     "metadata": {},
     "output_type": "execute_result"
    }
   ],
   "source": [
    "for index, row in df.iterrows():\n",
    "\n",
    "    x = row['Age']\n",
    "\n",
    "    if x < 18:\n",
    "        group = 'Child'\n",
    "    elif x > 60:\n",
    "        group = 'Senior'\n",
    "    elif row.Sex == 'male':\n",
    "        group = 'Adult Man'\n",
    "    elif row.Sex == 'female':\n",
    "        group = 'Adult Woman'\n",
    "\n",
    "    df.loc[index, 'Age/Sex Grouping'] = group\n",
    "    \n",
    "age_sex_groups = df.groupby('Age/Sex Grouping')\n",
    "age_sex_groups.mean()"
   ]
  },
  {
   "cell_type": "markdown",
   "metadata": {},
   "source": [
    "With means significantly above the overall mean for survival (0.38), it appears that if you were a woman (0.75) or child (0.54), your chances of survival appear to be significantly higher. The mean for an adult woman is 4.5x higher than an adult man.\n",
    "\n",
    "\n",
    "As we know that there were limited lifeboats on the titanic, this would make sense. To prove/disprove this, I will look at performing statistical tests in the conclusion part of this report.\n",
    "\n"
   ]
  },
  {
   "cell_type": "code",
   "execution_count": 99,
   "metadata": {
    "scrolled": false
   },
   "outputs": [
    {
     "data": {
      "text/plain": [
       "<seaborn.axisgrid.FacetGrid at 0x1a1b16b518>"
      ]
     },
     "execution_count": 99,
     "metadata": {},
     "output_type": "execute_result"
    },
    {
     "data": {
      "image/png": "[encoded data removed]",
      "text/plain": [
       "<Figure size 564.75x504 with 1 Axes>"
      ]
     },
     "metadata": {
      "needs_background": "light"
     },
     "output_type": "display_data"
    }
   ],
   "source": [
    "sns.catplot(height=7, aspect=1, x=\"Sex\", y=\"Age\", data=df, hue=\"Survived\")"
   ]
  },
  {
   "cell_type": "markdown",
   "metadata": {},
   "source": [
    "- Clearly women were more likely to survive than men (it looks fairly even across all ages)\n",
    "- Young boys were more likely to survive than adult men"
   ]
  },
  {
   "cell_type": "markdown",
   "metadata": {},
   "source": [
    "#### The relationship between ticket fare/class and survival\n",
    "\n",
    "Carrying on with the groupings established earlier in this study (based on age/sex), here we will analyse how the two variable 'Pclass' and 'Fare' are related to 'Survived'."
   ]
  },
  {
   "cell_type": "code",
   "execution_count": 60,
   "metadata": {
    "scrolled": true
   },
   "outputs": [
    {
     "data": {
      "text/plain": [
       "<matplotlib.axes._subplots.AxesSubplot at 0x1a1aed36a0>"
      ]
     },
     "execution_count": 60,
     "metadata": {},
     "output_type": "execute_result"
    },
    {
     "data": {
      "image/png": "[encoded data removed]",
      "text/plain": [
       "<Figure size 432x288 with 1 Axes>"
      ]
     },
     "metadata": {
      "needs_background": "light"
     },
     "output_type": "display_data"
    }
   ],
   "source": [
    "class_groups = df.groupby('Pclass')\n",
    "survived_class_groups = class_groups['Survived'].mean()\n",
    "survived_class_groups.plot.bar()"
   ]
  },
  {
   "cell_type": "code",
   "execution_count": 113,
   "metadata": {},
   "outputs": [
    {
     "data": {
      "text/plain": [
       "<seaborn.axisgrid.FacetGrid at 0x1a22ff3f28>"
      ]
     },
     "execution_count": 113,
     "metadata": {},
     "output_type": "execute_result"
    },
    {
     "data": {
      "image/png": "[encoded data removed]",
      "text/plain": [
       "<Figure size 636.75x576 with 1 Axes>"
      ]
     },
     "metadata": {
      "needs_background": "light"
     },
     "output_type": "display_data"
    }
   ],
   "source": [
    "sns.catplot(height=8, aspect=1, x=\"Pclass\", y=\"Fare\", data=df[df['Fare']<300], hue=\"Survived\")"
   ]
  },
  {
   "cell_type": "markdown",
   "metadata": {},
   "source": [
    "#### The relationships between number of parents/children/spouses/siblings aboard and survival"
   ]
  },
  {
   "cell_type": "markdown",
   "metadata": {},
   "source": [
    "I wonder if new features could be engineered e.g. \n",
    "- lone traveller/couple/family from Sibsp/Parch & Last Name.\n",
    "- discounted ticket from an incongruent Pclass and Fare.\n",
    "- Family role - i.e. mother, father, brother, sister, spouse (might be able to infer spouse from the bracketed name)"
   ]
  },
  {
   "cell_type": "markdown",
   "metadata": {},
   "source": [
    "### Can we  tell anything from the families?"
   ]
  },
  {
   "cell_type": "code",
   "execution_count": null,
   "metadata": {},
   "outputs": [],
   "source": [
    "import re\n",
    "\n",
    "#Duplicating the table as I know we may have to deal with bracketed families later:\n",
    "fam_df = df\n",
    "def name_splitter(name_array):\n",
    "#name_ex = 'Futrelle, Mrs. Jacques Heath (Lily May Peel)'\n",
    "\n",
    "    split_name = re.findall('(?<=\\()[\\w\\s]+(?=\\))|\\w+', name_array)\n",
    "\n",
    "    # splits last name and title from other names\n",
    "    last_name = split_name[0]\n",
    "    title = split_name[1]\n",
    "    other_names = split_name[2:]\n",
    "\n",
    "    return split_name\n"
   ]
  },
  {
   "cell_type": "code",
   "execution_count": null,
   "metadata": {
    "scrolled": true
   },
   "outputs": [],
   "source": [
    "\n",
    "def new_name_columns(df):\n",
    "    \"\"\"Creates two new columns for names\"\"\"\n",
    "    split_names  = df['Name'].apply(name_splitter)\n",
    "    df['Last Name'] = split_names.apply(lambda x:x[0])\n",
    "    df['Title'] = split_names.apply(lambda x:x[1])\n",
    "\n",
    "    return None\n",
    "\n",
    "new_name_columns(df)"
   ]
  },
  {
   "cell_type": "code",
   "execution_count": null,
   "metadata": {},
   "outputs": [],
   "source": [
    "df.head()"
   ]
  },
  {
   "cell_type": "code",
   "execution_count": null,
   "metadata": {},
   "outputs": [],
   "source": [
    "family_groups = df.groupby('Last Name')\n",
    "family_groups.iloc['Sage'].mean()"
   ]
  },
  {
   "cell_type": "code",
   "execution_count": null,
   "metadata": {
    "scrolled": true
   },
   "outputs": [],
   "source": [
    "sibsp_grouping = df.groupby('SibSp')\n",
    "sibsp_grouping['Survived'].describe()"
   ]
  },
  {
   "cell_type": "code",
   "execution_count": null,
   "metadata": {
    "scrolled": false
   },
   "outputs": [],
   "source": [
    "sibsp_grouping.get_group(5)"
   ]
  },
  {
   "cell_type": "code",
   "execution_count": null,
   "metadata": {},
   "outputs": [],
   "source": [
    "sibsp_grouping.get_group(8)"
   ]
  },
  {
   "cell_type": "markdown",
   "metadata": {},
   "source": [
    "We can see we don't have ages for any of the Sage family so they have automatically been averaged out at 29.6."
   ]
  },
  {
   "cell_type": "code",
   "execution_count": null,
   "metadata": {},
   "outputs": [],
   "source": [
    "sibsp_grouping.get_group(4)"
   ]
  },
  {
   "cell_type": "markdown",
   "metadata": {},
   "source": [
    "Initial thoughts:\n",
    "- It appears to be better for chances of survival to have 1 or 2 siblings/spouses on board than 0.\n",
    "- "
   ]
  },
  {
   "cell_type": "markdown",
   "metadata": {},
   "source": [
    "## 4 Draw Conclusions\n",
    "\n",
    "Here I will use either statistics or machine learning to really confirm what the data is telling us and answer the primary question"
   ]
  },
  {
   "cell_type": "markdown",
   "metadata": {},
   "source": [
    "As we are dealing with discrete data for age/sex groupings and whether a person survived or not. I have opted to use the Chi-squared test. In order to do this hypothesis test I need to understand how many people survived in each cataegory.\n",
    "\n",
    "We know from earlier that the mean survival rate is 0.38."
   ]
  },
  {
   "cell_type": "markdown",
   "metadata": {},
   "source": [
    "### Statistical tests"
   ]
  },
  {
   "cell_type": "markdown",
   "metadata": {},
   "source": [
    "#### Chi-squared test for age/sex groupings"
   ]
  },
  {
   "cell_type": "markdown",
   "metadata": {},
   "source": [
    "Below I state our null and alternative hypothesis. I aim to test at the 95% confidence level.\n",
    "\n",
    "- H0: The proportion of survivors is the same in each of our four age/sex groupings.\n",
    "- Ha: The proportion of survivors is not the same in each of our four age/sex groupings."
   ]
  },
  {
   "cell_type": "markdown",
   "metadata": {},
   "source": [
    "Calculating observed survivors - I do this by summing up the survived column for our grouping made on age_sex earlier (as 1= survivor and 0=non-survivor, we are essentially counting cells where Survived=1 within each group)."
   ]
  },
  {
   "cell_type": "code",
   "execution_count": null,
   "metadata": {},
   "outputs": [],
   "source": [
    "observed_survivors = age_sex_groups.Survived.sum()\n",
    "print(observed_survivors)"
   ]
  },
  {
   "cell_type": "markdown",
   "metadata": {},
   "source": [
    "Calculating expected survivors - I do this by taking the overall proportion of survivors and multiplying by the count of each age/sex group. I then perform a test to ensure the value we calculated for survivors above is the same as below."
   ]
  },
  {
   "cell_type": "code",
   "execution_count": null,
   "metadata": {},
   "outputs": [],
   "source": [
    "survivor_grouping = df.groupby('Survived')['Survived'].count()\n",
    "print(survivor_grouping)\n",
    "print('Test: ' + str(survivor_grouping.iloc[1] == observed_survivors.sum()))\n",
    "\n",
    "total_asg = age_sex_groups.Name.count() #Count for each group\n",
    "total_survivors = survivor_grouping[1]\n",
    "expected_survivors = (total_survivors/survivor_grouping.sum())*total_asg\n",
    "print(' \\nExpected Survivors: \\n')\n",
    "print(expected_survivors)"
   ]
  },
  {
   "cell_type": "code",
   "execution_count": null,
   "metadata": {},
   "outputs": [],
   "source": [
    "age_sex_df = pd.DataFrame({\n",
    "    'Observed Survivors': observed_survivors,\n",
    "    'Expected Survivors': expected_survivors,\n",
    "    },\n",
    "    index=['Adult Man', 'Adult Woman', 'Child', 'Senior'])\n",
    "\n",
    "age_sex_df"
   ]
  },
  {
   "cell_type": "markdown",
   "metadata": {},
   "source": [
    "Calculating chi-squared with 3 degrees of freedom."
   ]
  },
  {
   "cell_type": "code",
   "execution_count": null,
   "metadata": {},
   "outputs": [],
   "source": [
    "from scipy.stats import chisquare\n",
    "\n",
    "chi_squared = 0\n",
    "for index, record in age_sex_df.iterrows():\n",
    "    obs = record['Observed Survivors']\n",
    "    exp = record['Expected Survivors']\n",
    "    value = ((obs-exp)**2)/exp\n",
    "    \n",
    "    chi_squared += value\n",
    "    \n",
    "print('The chi_squared value is: ' + str(chi_squared))\n",
    "\n",
    "#Testing with equation\n",
    "chisquare(f_obs = observed_survivors, f_exp = expected_survivors, ddof=3, axis =0)"
   ]
  },
  {
   "cell_type": "markdown",
   "metadata": {},
   "source": [
    "# Ignore for now / Ignore for now / Ignore for now / Ignore for now "
   ]
  },
  {
   "cell_type": "code",
   "execution_count": null,
   "metadata": {
    "scrolled": true
   },
   "outputs": [],
   "source": [
    "df[(df.Pclass == 1) & (df.Fare < 20) ]"
   ]
  },
  {
   "cell_type": "markdown",
   "metadata": {},
   "source": [
    "#### Age and Survived\n",
    "\n",
    "Male and Female grouping"
   ]
  },
  {
   "cell_type": "code",
   "execution_count": null,
   "metadata": {},
   "outputs": [],
   "source": [
    "\n",
    "\n",
    "sex_group = df.groupby('Sex')\n",
    "male_group = sex_group.get_group('male')\n",
    "female_group = sex_group.get_group('female')\n",
    "\n",
    "x = male_group.iloc[1:100]\n",
    "#print(x['Age'])\n",
    "\n",
    "\n",
    "#plt.hist(male_group['Survived'])\n",
    "\n",
    "\n",
    "#sex_group.plot(x='Age', y='Survived')\n",
    "#plt.scatter(sex_group['Age'], sex_group['Survived'])"
   ]
  },
  {
   "cell_type": "code",
   "execution_count": null,
   "metadata": {
    "scrolled": true
   },
   "outputs": [],
   "source": [
    "from math import ceil, floor\n",
    "\n",
    "def create_range(df, var, base):\n",
    "    \"\"\"Takes a variable and returns the variable in a range - useful for producing histograms\n",
    "    df = dataframe for function to act on\n",
    "    var = the variable you would like to convert into a range (string)\n",
    "    base = the upper and lower bounds of the range\n",
    "    \n",
    "    \"\"\"\n",
    "\n",
    "    for index, row in df.iterrows():\n",
    "\n",
    "        x = row[var]\n",
    "        lower = int(base * floor(float(x)/base))\n",
    "        if x % base != 0:\n",
    "            upper = int(base * ceil(float(x)/base))\n",
    "        else:\n",
    "            upper = lower + base\n",
    "\n",
    "        df.loc[index, '{}_range'.format(var)] = '{} - {}'.format(lower, upper)\n",
    "    \n",
    "    return df\n",
    "\n"
   ]
  },
  {
   "cell_type": "code",
   "execution_count": null,
   "metadata": {},
   "outputs": [],
   "source": [
    "create_range(df, 'Age', 10)\n",
    "\n",
    "#del df['Age_range']\n",
    "    \n",
    "df.head()"
   ]
  },
  {
   "cell_type": "markdown",
   "metadata": {},
   "source": [
    "I'm quite a visual person. I don't immediately see any interesting insights from looking at this statistical summary. To aid this i'm going to plot the distributions."
   ]
  },
  {
   "cell_type": "code",
   "execution_count": null,
   "metadata": {
    "scrolled": false
   },
   "outputs": [],
   "source": [
    "plot_hist(df.Age)"
   ]
  },
  {
   "cell_type": "code",
   "execution_count": null,
   "metadata": {},
   "outputs": [],
   "source": [
    "plot_hist(df.SibSp)"
   ]
  },
  {
   "cell_type": "code",
   "execution_count": null,
   "metadata": {
    "scrolled": false
   },
   "outputs": [],
   "source": [
    "plot_hist(df.Parch)"
   ]
  },
  {
   "cell_type": "code",
   "execution_count": null,
   "metadata": {
    "scrolled": false
   },
   "outputs": [],
   "source": [
    "plot_hist(df.Fare)"
   ]
  },
  {
   "cell_type": "markdown",
   "metadata": {},
   "source": [
    "The distribution appears to highlight outliers (as high as 500). This leads me to go a step further and calculate the median. As we can below, it is significantly different from the mean."
   ]
  },
  {
   "cell_type": "code",
   "execution_count": null,
   "metadata": {
    "scrolled": true
   },
   "outputs": [],
   "source": [
    "print(df['Fare'].median())"
   ]
  }
 ],
 "metadata": {
  "kernelspec": {
   "display_name": "Python 3",
   "language": "python",
   "name": "python3"
  },
  "language_info": {
   "codemirror_mode": {
    "name": "ipython",
    "version": 3
   },
   "file_extension": ".py",
   "mimetype": "text/x-python",
   "name": "python",
   "nbconvert_exporter": "python",
   "pygments_lexer": "ipython3",
   "version": "3.6.7"
  }
 },
 "nbformat": 4,
 "nbformat_minor": 2
}
